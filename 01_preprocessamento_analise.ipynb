{
 "cells": [
  {
   "cell_type": "markdown",
   "id": "db1993fc",
   "metadata": {},
   "source": [
    "\n",
    "# Parte #01 — Limpeza e Preparação do Dataset\n",
    "\n",
    "- `source/tic-tac-toe.data` — tabuleiros (9 casas) + classe original da UCI (*positive/negative*)\n",
    "- `source/tic-tac-toe.names` — metadados originais\n",
    "- `source/descricao_trabalho.md` — instruções do trabalho\n",
    "\n",
    "**Rótulos de saída:**\n",
    "- `0` = **Tem Jogo**\n",
    "- `1` = **Possível Fim de Jogo**\n",
    "- `2` = **Fim de Jogo**\n",
    "\n",
    "> Observação: o dataset original contém **apenas posições finais** de jogo da velha; necessário tratar o, ao aplicarmos nossas regras, todas as linhas do dataset original caem inicialmente na classe `2`.\n"
   ]
  },
  {
   "cell_type": "markdown",
   "id": "5d48a46d",
   "metadata": {},
   "source": [
    "Abaixo, verificamos existência dos arquivos de dataset originais fornecidos para o T1"
   ]
  },
  {
   "cell_type": "code",
   "execution_count": 132,
   "id": "957a07ec",
   "metadata": {},
   "outputs": [
    {
     "data": {
      "text/plain": [
       "(PosixPath('/Users/arthurtesta/Documents/PUCRS/Inteligencia Artificial/source/tic-tac-toe.data'),\n",
       " PosixPath('/Users/arthurtesta/Documents/PUCRS/Inteligencia Artificial/source/tic-tac-toe.names'),\n",
       " True,\n",
       " True)"
      ]
     },
     "execution_count": 132,
     "metadata": {},
     "output_type": "execute_result"
    }
   ],
   "source": [
    "from pathlib import Path\n",
    "import pandas as pd\n",
    "import numpy as np\n",
    "\n",
    "DATA_DIR = Path('/Users/arthurtesta/Documents/PUCRS/Inteligencia Artificial/source')\n",
    "RAW_DATA = DATA_DIR/'tic-tac-toe.data'\n",
    "RAW_NAMES = DATA_DIR/'tic-tac-toe.names'\n",
    "\n",
    "RAW_DATA, RAW_NAMES, RAW_DATA.exists(), RAW_NAMES.exists()"
   ]
  },
  {
   "cell_type": "markdown",
   "id": "c2d13539",
   "metadata": {},
   "source": [
    "\n",
    "### 1. Carregar dataset cru e inspecionar schema\n",
    "**Limpeza do dataset - problemas encontrados:**\n",
    "- O arquivo não possui cabeçalhos\n",
    "- Possui **10 colunas**: 9 casas do tabuleiro (`x`, `o`, `b`) + **classe original UCI** (`positive/negative`).\n",
    "- Este dataset possui outro objetivo de análise, possui apenas condições de fim de jogo para um dos jogadores. Suas classes representam:\n",
    "- - positive ⇒ posição de fim de jogo em que X venceu (X tem três em linha);\n",
    "\n",
    "- - negative ⇒ todas as outras posições finais (empate ou vitória de O). \n",
    "- Portanto, para nosso objetivo, não podemos utilizar estas classes, mas manteremos no dataset para referência histórica"
   ]
  },
  {
   "cell_type": "code",
   "execution_count": 133,
   "id": "c6008f8e",
   "metadata": {},
   "outputs": [
    {
     "data": {
      "text/html": [
       "<div>\n",
       "<style scoped>\n",
       "    .dataframe tbody tr th:only-of-type {\n",
       "        vertical-align: middle;\n",
       "    }\n",
       "\n",
       "    .dataframe tbody tr th {\n",
       "        vertical-align: top;\n",
       "    }\n",
       "\n",
       "    .dataframe thead th {\n",
       "        text-align: right;\n",
       "    }\n",
       "</style>\n",
       "<table border=\"1\" class=\"dataframe\">\n",
       "  <thead>\n",
       "    <tr style=\"text-align: right;\">\n",
       "      <th></th>\n",
       "      <th>0</th>\n",
       "      <th>1</th>\n",
       "      <th>2</th>\n",
       "      <th>3</th>\n",
       "      <th>4</th>\n",
       "      <th>5</th>\n",
       "      <th>6</th>\n",
       "      <th>7</th>\n",
       "      <th>8</th>\n",
       "      <th>uci_class</th>\n",
       "    </tr>\n",
       "  </thead>\n",
       "  <tbody>\n",
       "    <tr>\n",
       "      <th>0</th>\n",
       "      <td>x</td>\n",
       "      <td>x</td>\n",
       "      <td>x</td>\n",
       "      <td>x</td>\n",
       "      <td>o</td>\n",
       "      <td>o</td>\n",
       "      <td>x</td>\n",
       "      <td>o</td>\n",
       "      <td>o</td>\n",
       "      <td>positive</td>\n",
       "    </tr>\n",
       "    <tr>\n",
       "      <th>1</th>\n",
       "      <td>x</td>\n",
       "      <td>x</td>\n",
       "      <td>x</td>\n",
       "      <td>x</td>\n",
       "      <td>o</td>\n",
       "      <td>o</td>\n",
       "      <td>o</td>\n",
       "      <td>x</td>\n",
       "      <td>o</td>\n",
       "      <td>positive</td>\n",
       "    </tr>\n",
       "    <tr>\n",
       "      <th>2</th>\n",
       "      <td>x</td>\n",
       "      <td>x</td>\n",
       "      <td>x</td>\n",
       "      <td>x</td>\n",
       "      <td>o</td>\n",
       "      <td>o</td>\n",
       "      <td>o</td>\n",
       "      <td>o</td>\n",
       "      <td>x</td>\n",
       "      <td>positive</td>\n",
       "    </tr>\n",
       "    <tr>\n",
       "      <th>3</th>\n",
       "      <td>x</td>\n",
       "      <td>x</td>\n",
       "      <td>x</td>\n",
       "      <td>x</td>\n",
       "      <td>o</td>\n",
       "      <td>o</td>\n",
       "      <td>o</td>\n",
       "      <td>b</td>\n",
       "      <td>b</td>\n",
       "      <td>positive</td>\n",
       "    </tr>\n",
       "    <tr>\n",
       "      <th>4</th>\n",
       "      <td>x</td>\n",
       "      <td>x</td>\n",
       "      <td>x</td>\n",
       "      <td>x</td>\n",
       "      <td>o</td>\n",
       "      <td>o</td>\n",
       "      <td>b</td>\n",
       "      <td>o</td>\n",
       "      <td>b</td>\n",
       "      <td>positive</td>\n",
       "    </tr>\n",
       "  </tbody>\n",
       "</table>\n",
       "</div>"
      ],
      "text/plain": [
       "   0  1  2  3  4  5  6  7  8 uci_class\n",
       "0  x  x  x  x  o  o  x  o  o  positive\n",
       "1  x  x  x  x  o  o  o  x  o  positive\n",
       "2  x  x  x  x  o  o  o  o  x  positive\n",
       "3  x  x  x  x  o  o  o  b  b  positive\n",
       "4  x  x  x  x  o  o  b  o  b  positive"
      ]
     },
     "metadata": {},
     "output_type": "display_data"
    },
    {
     "name": "stdout",
     "output_type": "stream",
     "text": [
      "Shape: (958, 10)\n",
      "Distribuicao uci_class:\n",
      "uci_class\n",
      "positive    626\n",
      "negative    332\n",
      "Name: count, dtype: int64\n"
     ]
    }
   ],
   "source": [
    "raw = pd.read_csv(RAW_DATA, header=None)\n",
    "raw.columns = list(range(9)) + ['uci_class']\n",
    "display(raw.head())\n",
    "print('Shape:', raw.shape)\n",
    "print('Distribuicao uci_class:')\n",
    "print(raw['uci_class'].value_counts())"
   ]
  },
  {
   "cell_type": "markdown",
   "id": "121fa234",
   "metadata": {},
   "source": [
    "### 2. Definir funções auxiliares de classificação\n",
    "\n",
    "Definimos abaixo as funções que irão ajudar a definir o estado de cada entrada do dataset:\n",
    "\n",
    "*possui_vencedor(tabuleiro)*: define se a linha possui vencedor, ou seja, se alguma das combinações de vitória (definida em *LINES*[]) possui uma sequência do mesmo jogador, neste caso, X (já que o dataset possui apenas vitórias dele)\n",
    "\n",
    "*possui_dois_e_vazio(tabuleiro)*: verifica se alguma das linhas de jogo podem estar prestes a terminar o jogo com vitória\n",
    "\n",
    "*classificacao_jogo(tabuleiro)*: utiliza as duas funções anteriores para classificar a partida conforme abaixo:\n",
    "\n",
    "`label_int`\n",
    "1. **Fim de Jogo (2)**: há `XXX` ou `OOO` **ou** não há `b` (empate).\n",
    "2. **Possível Fim de Jogo (1)**: (se não for 2) existe linha/coluna/diagonal com **duas iguais + um vazio**.\n",
    "3. **Tem Jogo (0)**: caso contrário.\n"
   ]
  },
  {
   "cell_type": "code",
   "execution_count": 134,
   "id": "d7f47cd6",
   "metadata": {},
   "outputs": [],
   "source": [
    "LINES = [\n",
    "    (0,1,2),(3,4,5),(6,7,8),\n",
    "    (0,3,6),(1,4,7),(2,5,8),\n",
    "    (0,4,8),(2,4,6)\n",
    "]\n",
    "\n",
    "def possui_vencedor(tabuleiro):\n",
    "    for i,j,k in LINES:\n",
    "        a,b,c = tabuleiro[i],tabuleiro[j],tabuleiro[k]\n",
    "        if a != 'b' and a==b==c:\n",
    "            return True\n",
    "    return False\n",
    "\n",
    "def vencedor(tabuleiro):\n",
    "    for i,j,k in LINES:\n",
    "        a,b,c = tabuleiro[i],tabuleiro[j],tabuleiro[k]\n",
    "        if a != 'b' and a==b==c:\n",
    "            return a\n",
    "    return None\n",
    "\n",
    "def possui_dois_e_vazio(tabuleiro):\n",
    "    for i,j,k in LINES:\n",
    "        trip = [tabuleiro[i],tabuleiro[j],tabuleiro[k]]\n",
    "        if trip.count('b')==1:\n",
    "            nonb = [t for t in trip if t!='b']\n",
    "            if len(nonb)==2 and nonb[0]==nonb[1]:\n",
    "                return True\n",
    "    return False\n",
    "\n",
    "def classificacao_jogo(tabuleiro):\n",
    "    if possui_vencedor(tabuleiro) or ('b' not in tabuleiro):\n",
    "        return 2\n",
    "    if possui_dois_e_vazio(tabuleiro):\n",
    "        return 1\n",
    "    return 0\n",
    "\n",
    "#funções auxiliares de visualização do tabuleiro\n",
    "\n",
    "def board_to_str(b): return ''.join(b)\n",
    "def str_to_board(s): return list(s)"
   ]
  },
  {
   "cell_type": "markdown",
   "id": "2818013d",
   "metadata": {},
   "source": [
    "### 3. Aplicar rotulagem e inspecionar resultados"
   ]
  },
  {
   "cell_type": "code",
   "execution_count": 135,
   "id": "207ed646",
   "metadata": {},
   "outputs": [
    {
     "data": {
      "text/html": [
       "<div>\n",
       "<style scoped>\n",
       "    .dataframe tbody tr th:only-of-type {\n",
       "        vertical-align: middle;\n",
       "    }\n",
       "\n",
       "    .dataframe tbody tr th {\n",
       "        vertical-align: top;\n",
       "    }\n",
       "\n",
       "    .dataframe thead th {\n",
       "        text-align: right;\n",
       "    }\n",
       "</style>\n",
       "<table border=\"1\" class=\"dataframe\">\n",
       "  <thead>\n",
       "    <tr style=\"text-align: right;\">\n",
       "      <th></th>\n",
       "      <th>0</th>\n",
       "      <th>1</th>\n",
       "      <th>2</th>\n",
       "      <th>3</th>\n",
       "      <th>4</th>\n",
       "      <th>5</th>\n",
       "      <th>6</th>\n",
       "      <th>7</th>\n",
       "      <th>8</th>\n",
       "      <th>uci_class</th>\n",
       "      <th>label_int</th>\n",
       "      <th>label</th>\n",
       "    </tr>\n",
       "  </thead>\n",
       "  <tbody>\n",
       "    <tr>\n",
       "      <th>0</th>\n",
       "      <td>x</td>\n",
       "      <td>x</td>\n",
       "      <td>x</td>\n",
       "      <td>x</td>\n",
       "      <td>o</td>\n",
       "      <td>o</td>\n",
       "      <td>x</td>\n",
       "      <td>o</td>\n",
       "      <td>o</td>\n",
       "      <td>positive</td>\n",
       "      <td>2</td>\n",
       "      <td>Fim de Jogo</td>\n",
       "    </tr>\n",
       "    <tr>\n",
       "      <th>1</th>\n",
       "      <td>x</td>\n",
       "      <td>x</td>\n",
       "      <td>x</td>\n",
       "      <td>x</td>\n",
       "      <td>o</td>\n",
       "      <td>o</td>\n",
       "      <td>o</td>\n",
       "      <td>x</td>\n",
       "      <td>o</td>\n",
       "      <td>positive</td>\n",
       "      <td>2</td>\n",
       "      <td>Fim de Jogo</td>\n",
       "    </tr>\n",
       "    <tr>\n",
       "      <th>2</th>\n",
       "      <td>x</td>\n",
       "      <td>x</td>\n",
       "      <td>x</td>\n",
       "      <td>x</td>\n",
       "      <td>o</td>\n",
       "      <td>o</td>\n",
       "      <td>o</td>\n",
       "      <td>o</td>\n",
       "      <td>x</td>\n",
       "      <td>positive</td>\n",
       "      <td>2</td>\n",
       "      <td>Fim de Jogo</td>\n",
       "    </tr>\n",
       "    <tr>\n",
       "      <th>3</th>\n",
       "      <td>x</td>\n",
       "      <td>x</td>\n",
       "      <td>x</td>\n",
       "      <td>x</td>\n",
       "      <td>o</td>\n",
       "      <td>o</td>\n",
       "      <td>o</td>\n",
       "      <td>b</td>\n",
       "      <td>b</td>\n",
       "      <td>positive</td>\n",
       "      <td>2</td>\n",
       "      <td>Fim de Jogo</td>\n",
       "    </tr>\n",
       "    <tr>\n",
       "      <th>4</th>\n",
       "      <td>x</td>\n",
       "      <td>x</td>\n",
       "      <td>x</td>\n",
       "      <td>x</td>\n",
       "      <td>o</td>\n",
       "      <td>o</td>\n",
       "      <td>b</td>\n",
       "      <td>o</td>\n",
       "      <td>b</td>\n",
       "      <td>positive</td>\n",
       "      <td>2</td>\n",
       "      <td>Fim de Jogo</td>\n",
       "    </tr>\n",
       "  </tbody>\n",
       "</table>\n",
       "</div>"
      ],
      "text/plain": [
       "   0  1  2  3  4  5  6  7  8 uci_class  label_int        label\n",
       "0  x  x  x  x  o  o  x  o  o  positive          2  Fim de Jogo\n",
       "1  x  x  x  x  o  o  o  x  o  positive          2  Fim de Jogo\n",
       "2  x  x  x  x  o  o  o  o  x  positive          2  Fim de Jogo\n",
       "3  x  x  x  x  o  o  o  b  b  positive          2  Fim de Jogo\n",
       "4  x  x  x  x  o  o  b  o  b  positive          2  Fim de Jogo"
      ]
     },
     "metadata": {},
     "output_type": "display_data"
    },
    {
     "data": {
      "text/plain": [
       "label_int\n",
       "2    958\n",
       "Name: count, dtype: int64"
      ]
     },
     "execution_count": 135,
     "metadata": {},
     "output_type": "execute_result"
    }
   ],
   "source": [
    "raw['label_int'] = raw[list(range(9))].apply(lambda r: classificacao_jogo(r.tolist()), axis=1)\n",
    "mapping = {0:'Tem Jogo', 1:'Possível Fim de Jogo', 2:'Fim de Jogo'}\n",
    "raw['label'] = raw['label_int'].map(mapping)\n",
    "display(raw.head())\n",
    "raw['label_int'].value_counts().sort_index()"
   ]
  },
  {
   "cell_type": "markdown",
   "id": "950bec4d",
   "metadata": {},
   "source": [
    "\n",
    "### 4. Salvar `tic_tac_toe_clean.csv`\n",
    "Colunas:\n",
    "- 9 casas do tabuleiro\n",
    "- `uci_class` (original)\n",
    "- `label_int` (0/1/2) e `label` (texto)\n"
   ]
  },
  {
   "cell_type": "code",
   "execution_count": 136,
   "id": "767e012e",
   "metadata": {},
   "outputs": [
    {
     "data": {
      "text/plain": [
       "(PosixPath('/Users/arthurtesta/Documents/PUCRS/Inteligencia Artificial/data/tic_tac_toe_clean.csv'),\n",
       " (958, 12))"
      ]
     },
     "execution_count": 136,
     "metadata": {},
     "output_type": "execute_result"
    }
   ],
   "source": [
    "cleaned = raw.copy()\n",
    "cleaned_path = Path('/Users/arthurtesta/Documents/PUCRS/Inteligencia Artificial/data/tic_tac_toe_clean.csv')\n",
    "cleaned.to_csv(cleaned_path, index=False)\n",
    "cleaned_path, cleaned.shape"
   ]
  },
  {
   "cell_type": "markdown",
   "id": "df1b7b42",
   "metadata": {},
   "source": [
    "Temos um dataset com 958 entradas e 12 atributos - um atributo para cada quadrado de jogo do tabuleiro do jogo da velha, um atributo legado `uci_class`, e as classificações de saída `label_int` (inteiro) e `label` (string). Utilizaremos a coluna de inteiros para processamento dos modelos, e a de string apenas para referência e visualização."
   ]
  },
  {
   "cell_type": "markdown",
   "id": "a34d986b",
   "metadata": {},
   "source": [
    "Ainda não podemos utilizar este dataset pois contempla apenas estados finais. Precisaremos utilizar de augmentação para que o dataset tenha modelos com as três classes"
   ]
  },
  {
   "cell_type": "markdown",
   "id": "5139de92",
   "metadata": {},
   "source": [
    "# Parte #02 — Augmentação das Classes (0 e 1) + Split Balanceado (train/valid/test)"
   ]
  },
  {
   "cell_type": "markdown",
   "id": "9344301c",
   "metadata": {},
   "source": [
    "Inicialmente vamos garantir que todas as colunas esperadas estejam carregadas corretamente:"
   ]
  },
  {
   "cell_type": "markdown",
   "id": "82e60729",
   "metadata": {},
   "source": [
    "### 1. Carregar dataset limpo"
   ]
  },
  {
   "cell_type": "code",
   "execution_count": 137,
   "id": "1676b33c",
   "metadata": {},
   "outputs": [
    {
     "name": "stdout",
     "output_type": "stream",
     "text": [
      "Colunas encontradas: ['0', '1', '2', '3', '4', '5', '6', '7', '8', 'uci_class', 'label_int', 'label']\n"
     ]
    },
    {
     "data": {
      "text/html": [
       "<div>\n",
       "<style scoped>\n",
       "    .dataframe tbody tr th:only-of-type {\n",
       "        vertical-align: middle;\n",
       "    }\n",
       "\n",
       "    .dataframe tbody tr th {\n",
       "        vertical-align: top;\n",
       "    }\n",
       "\n",
       "    .dataframe thead th {\n",
       "        text-align: right;\n",
       "    }\n",
       "</style>\n",
       "<table border=\"1\" class=\"dataframe\">\n",
       "  <thead>\n",
       "    <tr style=\"text-align: right;\">\n",
       "      <th></th>\n",
       "      <th>0</th>\n",
       "      <th>1</th>\n",
       "      <th>2</th>\n",
       "      <th>3</th>\n",
       "      <th>4</th>\n",
       "      <th>5</th>\n",
       "      <th>6</th>\n",
       "      <th>7</th>\n",
       "      <th>8</th>\n",
       "      <th>uci_class</th>\n",
       "      <th>label_int</th>\n",
       "      <th>label</th>\n",
       "    </tr>\n",
       "  </thead>\n",
       "  <tbody>\n",
       "    <tr>\n",
       "      <th>0</th>\n",
       "      <td>x</td>\n",
       "      <td>x</td>\n",
       "      <td>x</td>\n",
       "      <td>x</td>\n",
       "      <td>o</td>\n",
       "      <td>o</td>\n",
       "      <td>x</td>\n",
       "      <td>o</td>\n",
       "      <td>o</td>\n",
       "      <td>positive</td>\n",
       "      <td>2</td>\n",
       "      <td>Fim de Jogo</td>\n",
       "    </tr>\n",
       "    <tr>\n",
       "      <th>1</th>\n",
       "      <td>x</td>\n",
       "      <td>x</td>\n",
       "      <td>x</td>\n",
       "      <td>x</td>\n",
       "      <td>o</td>\n",
       "      <td>o</td>\n",
       "      <td>o</td>\n",
       "      <td>x</td>\n",
       "      <td>o</td>\n",
       "      <td>positive</td>\n",
       "      <td>2</td>\n",
       "      <td>Fim de Jogo</td>\n",
       "    </tr>\n",
       "    <tr>\n",
       "      <th>2</th>\n",
       "      <td>x</td>\n",
       "      <td>x</td>\n",
       "      <td>x</td>\n",
       "      <td>x</td>\n",
       "      <td>o</td>\n",
       "      <td>o</td>\n",
       "      <td>o</td>\n",
       "      <td>o</td>\n",
       "      <td>x</td>\n",
       "      <td>positive</td>\n",
       "      <td>2</td>\n",
       "      <td>Fim de Jogo</td>\n",
       "    </tr>\n",
       "    <tr>\n",
       "      <th>3</th>\n",
       "      <td>x</td>\n",
       "      <td>x</td>\n",
       "      <td>x</td>\n",
       "      <td>x</td>\n",
       "      <td>o</td>\n",
       "      <td>o</td>\n",
       "      <td>o</td>\n",
       "      <td>b</td>\n",
       "      <td>b</td>\n",
       "      <td>positive</td>\n",
       "      <td>2</td>\n",
       "      <td>Fim de Jogo</td>\n",
       "    </tr>\n",
       "    <tr>\n",
       "      <th>4</th>\n",
       "      <td>x</td>\n",
       "      <td>x</td>\n",
       "      <td>x</td>\n",
       "      <td>x</td>\n",
       "      <td>o</td>\n",
       "      <td>o</td>\n",
       "      <td>b</td>\n",
       "      <td>o</td>\n",
       "      <td>b</td>\n",
       "      <td>positive</td>\n",
       "      <td>2</td>\n",
       "      <td>Fim de Jogo</td>\n",
       "    </tr>\n",
       "  </tbody>\n",
       "</table>\n",
       "</div>"
      ],
      "text/plain": [
       "   0  1  2  3  4  5  6  7  8 uci_class  label_int        label\n",
       "0  x  x  x  x  o  o  x  o  o  positive          2  Fim de Jogo\n",
       "1  x  x  x  x  o  o  o  x  o  positive          2  Fim de Jogo\n",
       "2  x  x  x  x  o  o  o  o  x  positive          2  Fim de Jogo\n",
       "3  x  x  x  x  o  o  o  b  b  positive          2  Fim de Jogo\n",
       "4  x  x  x  x  o  o  b  o  b  positive          2  Fim de Jogo"
      ]
     },
     "execution_count": 137,
     "metadata": {},
     "output_type": "execute_result"
    }
   ],
   "source": [
    "df_clean = pd.read_csv(cleaned_path)\n",
    "# Garantir nomes esperados\n",
    "expected_cols = list(range(9)) + ['uci_class', 'label_int', 'label']\n",
    "print('Colunas encontradas:', list(df_clean.columns))\n",
    "df_clean.head()"
   ]
  },
  {
   "cell_type": "markdown",
   "id": "a0e8aa66",
   "metadata": {},
   "source": [
    "### 2. Aumentar dataset com novas classes"
   ]
  },
  {
   "cell_type": "markdown",
   "id": "96f708ae",
   "metadata": {},
   "source": [
    "Em seguida, faremos a construção das classes 1 e 2, atualmente, teríamos apenas a classe 1\n",
    "\n",
    "- **Classe 2 (Fim de Jogo)**: as posições finais do conjunto limpo (já são finais por definição do dataset UCI).  \n",
    "- **Classe 1 (Possível Fim de Jogo)**:\n",
    "  1. **De vitórias**: remover **uma** peça da **linha vencedora** → cria **ameaça imediata** (duas iguais + um vazio).\n",
    "  2. **De empates**: tabuleiro cheio (sem `b`), remover **uma** peça de modo a criar **duas iguais + um vazio**.\n"
   ]
  },
  {
   "cell_type": "code",
   "execution_count": 138,
   "id": "bdc78a5a",
   "metadata": {},
   "outputs": [
    {
     "data": {
      "text/plain": [
       "(958, 2462)"
      ]
     },
     "execution_count": 138,
     "metadata": {},
     "output_type": "execute_result"
    }
   ],
   "source": [
    "# Extrair tabuleiros do CSV limpo\n",
    "orig_boards = [list(row[:9]) for _, row in df_clean.iterrows()]\n",
    "\n",
    "# Classe 2\n",
    "class2 = set(board_to_str(b) for b in orig_boards if classificacao_jogo(b)==2)\n",
    "\n",
    "# Classe 1\n",
    "class1 = set()\n",
    "\n",
    "# a) De vitórias\n",
    "for b in orig_boards:\n",
    "    w = vencedor(b)\n",
    "    if not w:\n",
    "        continue\n",
    "    for (i,j,k) in LINES:\n",
    "        if b[i]==b[j]==b[k]==w:\n",
    "            for pos in (i,j,k):\n",
    "                nb = b.copy()\n",
    "                nb[pos] = 'b'\n",
    "                if classificacao_jogo(nb)==1:\n",
    "                    class1.add(board_to_str(nb))\n",
    "\n",
    "# b) De empates (tabuleiro cheio)\n",
    "for b in orig_boards:\n",
    "    if vencedor(b) is None and 'b' not in b:\n",
    "        for pos in range(9):\n",
    "            nb = b.copy()\n",
    "            nb[pos] = 'b'\n",
    "            if classificacao_jogo(nb)==1:\n",
    "                class1.add(board_to_str(nb))\n",
    "\n",
    "len(class2), len(class1)"
   ]
  },
  {
   "cell_type": "markdown",
   "id": "b8759bf3",
   "metadata": {},
   "source": [
    "### 3. Criação da Classe 0 (Jogo Possível)"
   ]
  },
  {
   "cell_type": "markdown",
   "id": "d8266be9",
   "metadata": {},
   "source": [
    "Temos então para a classe 2 o mesmo numero de entradas / tabuleiros já existentes no dataset original (todos eram fim de jogo), e para a classe 1, foi possível aumentar para 2462 possibilidades de novos tabuleiros"
   ]
  },
  {
   "cell_type": "markdown",
   "id": "f722f6e4",
   "metadata": {},
   "source": [
    "O próximo passo então é criar a classe 0, dedicada para casos em que ainda existe a possibilidade de jogo.\n",
    "\n",
    "*Estratégia*: a partir de posições finais (classe 2) e também das recém-geradas de classe 1, **remover duas peças** — uma `x` e uma `o` — até obter um estado **sem vitória** e **sem ameaça imediata** (ou seja, `classify_state == 0`).  \n",
    "Essa operação evita linhas de duas iguais + vazio e cria estados intermediários plausíveis.\n"
   ]
  },
  {
   "cell_type": "code",
   "execution_count": 139,
   "id": "946e3dcc",
   "metadata": {},
   "outputs": [
    {
     "data": {
      "text/plain": [
       "600"
      ]
     },
     "execution_count": 139,
     "metadata": {},
     "output_type": "execute_result"
    }
   ],
   "source": [
    "def all_pairs(xs, os): # Entrada: xs = índices das casas com x; os = índices das casas com o.\n",
    "    for xi in xs: # Para cada casa com x\n",
    "        for oi in os: # Para cada casa com o\n",
    "            yield xi, oi # Retorna o índice da casa com x e o índice da casa com o\n",
    "\n",
    "def generate_many_class0_from(b):\n",
    "    xs = [i for i,v in enumerate(b) if v=='x'] # Encontra os índices das casas com x\n",
    "    os = [i for i,v in enumerate(b) if v=='o'] # Encontra os índices das casas com o\n",
    "    res = set() # Cria um conjunto para armazenar os novos tabuleiros\n",
    "    for xi, oi in all_pairs(xs, os): # Para cada par de índices de x e o\n",
    "        nb = b.copy() # Cria uma cópia do tabuleiro original\n",
    "        nb[xi] = 'b' # Substitui a casa com x pelo vazio\n",
    "        nb[oi] = 'b' # Substitui a casa com o pelo vazio\n",
    "        if classificacao_jogo(nb)==0: # Verifica se o novo tabuleiro é um estado válido (sem vitória e sem ameaça imediata)\n",
    "            res.add(board_to_str(nb)) # Adiciona o novo tabuleiro ao conjunto\n",
    "    return res # Retorna o conjunto de novos tabuleiros válidos\n",
    "\n",
    "class0 = set() # Cria um conjunto para armazenar os novos tabuleiros válidos\n",
    "\n",
    "# De finais\n",
    "for b in orig_boards: # Para cada tabuleiro final\n",
    "    class0 |= generate_many_class0_from(b)  # Adiciona os novos tabuleiros válidos ao conjunto\n",
    "\n",
    "# De classe 1 (diversificar padrões)\n",
    "for s in list(class1): # Para cada tabuleiro da classe 1\n",
    "    class0 |= generate_many_class0_from(list(s)) # Adiciona os novos tabuleiros válidos ao conjunto\n",
    "\n",
    "len(class0)"
   ]
  },
  {
   "cell_type": "markdown",
   "id": "95346e18",
   "metadata": {},
   "source": [
    "Importante notar que utilizamos um conjunto (`set()`) para armazenar os novos tabuleiros válidos sem duplicações.\n"
   ]
  },
  {
   "cell_type": "markdown",
   "id": "9a805229",
   "metadata": {},
   "source": [
    "### 4. Heurística utilizada para garantir validade dos dados aumentados"
   ]
  },
  {
   "cell_type": "markdown",
   "id": "c1b78a0c",
   "metadata": {},
   "source": [
    "\n",
    "Para verificar a validade do dataset aumentado, vamos utilizar a heurística de paridade de jogadas.\n",
    "\n",
    "Paridade de jogadas `|#x - #o| ∈ {0,1}` será uma heurística útil para evitar estados muito \"artificiais\", ou impossíveis. Aqui mantemos apenas como relatório. No jogo da velha, X sempre começa. Logo, em qualquer estado alcançável:\n",
    "\n",
    "ou X jogou uma vez a mais que O → #X = #O + 1\n",
    "\n",
    "ou X e O jogaram o mesmo número de vezes → #X = #O\n",
    "\n",
    "Se a diferença for 2 (ou O tiver mais peças que X), o estado é inviável.\n"
   ]
  },
  {
   "cell_type": "code",
   "execution_count": 140,
   "id": "12ef7528",
   "metadata": {},
   "outputs": [
    {
     "data": {
      "text/plain": [
       "{'class0_parity_ok': 592,\n",
       " 'class0_total': 600,\n",
       " 'class1_parity_ok': 2398,\n",
       " 'class1_total': 2462,\n",
       " 'class2_parity_ok': 958,\n",
       " 'class2_total': 958}"
      ]
     },
     "execution_count": 140,
     "metadata": {},
     "output_type": "execute_result"
    }
   ],
   "source": [
    "def parity_ok(s):   # Entrada: s = tabuleiro    \n",
    "    nx = s.count('x') # Conta o número de x no tabuleiro\n",
    "    no = s.count('o') # Conta o número de o no tabuleiro\n",
    "    return abs(nx-no) in (0,1) # Retorna True se a paridade está correta\n",
    "\n",
    "parity_report = {\n",
    "    \"class0_parity_ok\": sum(parity_ok(s) for s in class0),\n",
    "    \"class0_total\": len(class0),\n",
    "    \"class1_parity_ok\": sum(parity_ok(s) for s in class1),\n",
    "    \"class1_total\": len(class1),\n",
    "    \"class2_parity_ok\": sum(parity_ok(s) for s in class2),\n",
    "    \"class2_total\": len(class2),\n",
    "}\n",
    "parity_report"
   ]
  },
  {
   "cell_type": "markdown",
   "id": "a0fea5f0",
   "metadata": {},
   "source": [
    "\n",
    "### 5. Balanceamento (até 250 por classe)\n",
    "Criaremos  **até 250** exemplos por classe ( 0/1/2 ) de maneira aleatória."
   ]
  },
  {
   "cell_type": "code",
   "execution_count": 141,
   "id": "5fbcd83f",
   "metadata": {},
   "outputs": [
    {
     "data": {
      "text/plain": [
       "(250, 250, 250)"
      ]
     },
     "execution_count": 141,
     "metadata": {},
     "output_type": "execute_result"
    }
   ],
   "source": [
    "import random\n",
    "random.seed(42)\n",
    "\n",
    "def sample_set(s, k=250):\n",
    "    lst = list(s)\n",
    "    random.shuffle(lst)\n",
    "    return lst[:min(k, len(lst))]\n",
    "\n",
    "s0 = sample_set(class0, 250)\n",
    "s1 = sample_set(class1, 250)\n",
    "s2 = sample_set(class2, 250)\n",
    "\n",
    "len(s0), len(s1), len(s2)"
   ]
  },
  {
   "cell_type": "markdown",
   "id": "108ebdb7",
   "metadata": {},
   "source": [
    "\n",
    "### 6. Construção do dataset final e Split 80/10/10 (estratificado)\n",
    "Geramos `dataset_trabalho_full.csv` e dividimos em `train.csv`, `valid.csv`, `test.csv` mantendo a mesma quantidade proporcional por classe.\n"
   ]
  },
  {
   "cell_type": "code",
   "execution_count": 142,
   "id": "fdd11786",
   "metadata": {},
   "outputs": [
    {
     "data": {
      "text/plain": [
       "({2: 250, 1: 250, 0: 250}, (750, 11))"
      ]
     },
     "execution_count": 142,
     "metadata": {},
     "output_type": "execute_result"
    }
   ],
   "source": [
    "def to_rows(lst, label):\n",
    "    rows = []\n",
    "    for s in lst:\n",
    "        b = list(s)\n",
    "        rows.append({**{i:b[i] for i in range(9)}, \"label_int\": label})\n",
    "    return rows\n",
    "\n",
    "rows = to_rows(s0,0) + to_rows(s1,1) + to_rows(s2,2)\n",
    "df = pd.DataFrame(rows)\n",
    "df['label'] = df['label_int'].map({0:'Tem Jogo',1:'Possível Fim de Jogo',2:'Fim de Jogo'})\n",
    "df = df.sample(frac=1, random_state=42).reset_index(drop=True)\n",
    "\n",
    "df['label_int'].value_counts().to_dict(), df.shape"
   ]
  },
  {
   "cell_type": "markdown",
   "id": "aab38bf4",
   "metadata": {},
   "source": [
    "Temos agora três datasets de mesmo tamanho, os quais iremos estratificar em 200 amostras de treino, 25 de validação e 25 de teste."
   ]
  },
  {
   "cell_type": "markdown",
   "id": "8be5b70a",
   "metadata": {},
   "source": [
    "\n",
    "### 6. Construção do dataset final e Split 80/10/10 (estratificado)\n",
    "\n",
    "Geração do `dataset_trabalho_full.csv` e divisão em `train.csv`, `valid.csv`, `test.csv` mantendo a mesma quantidade proporcional por classe.\n"
   ]
  },
  {
   "cell_type": "code",
   "execution_count": 143,
   "id": "54ae5a01",
   "metadata": {},
   "outputs": [
    {
     "data": {
      "text/plain": [
       "({2: 250, 1: 250, 0: 250}, (750, 11))"
      ]
     },
     "execution_count": 143,
     "metadata": {},
     "output_type": "execute_result"
    }
   ],
   "source": [
    "def to_rows(lst, label):\n",
    "    rows = []\n",
    "    for s in lst:\n",
    "        b = list(s)\n",
    "        rows.append({**{i:b[i] for i in range(9)}, \"label_int\": label})\n",
    "    return rows\n",
    "\n",
    "rows = to_rows(s0,0) + to_rows(s1,1) + to_rows(s2,2)\n",
    "df = pd.DataFrame(rows)\n",
    "df['label'] = df['label_int'].map({0:'Tem Jogo',1:'Possível Fim de Jogo',2:'Fim de Jogo'})\n",
    "df = df.sample(frac=1, random_state=42).reset_index(drop=True)\n",
    "\n",
    "df['label_int'].value_counts().to_dict(), df.shape"
   ]
  },
  {
   "cell_type": "code",
   "execution_count": 144,
   "id": "418c006f",
   "metadata": {},
   "outputs": [
    {
     "data": {
      "text/plain": [
       "({0: 200, 2: 200, 1: 200}, {0: 25, 2: 25, 1: 25}, {0: 25, 2: 25, 1: 25})"
      ]
     },
     "execution_count": 144,
     "metadata": {},
     "output_type": "execute_result"
    }
   ],
   "source": [
    "def split_by_class(dfi):\n",
    "    parts = []\n",
    "    for c in [0,1,2]:\n",
    "        sub = dfi[dfi['label_int']==c].sample(frac=1, random_state=42).reset_index(drop=True)\n",
    "        n = len(sub)\n",
    "        n_train = int(0.8*n)\n",
    "        n_valid = int(0.1*n)\n",
    "        train = sub.iloc[:n_train]\n",
    "        valid = sub.iloc[n_train:n_train+n_valid]\n",
    "        test  = sub.iloc[n_train+n_valid:]\n",
    "        parts.append((train,valid,test))\n",
    "    train = pd.concat([p[0] for p in parts]).sample(frac=1, random_state=42).reset_index(drop=True)\n",
    "    valid = pd.concat([p[1] for p in parts]).sample(frac=1, random_state=42).reset_index(drop=True)\n",
    "    test  = pd.concat([p[2] for p in parts]).sample(frac=1, random_state=42).reset_index(drop=True)\n",
    "    return train, valid, test\n",
    "\n",
    "train, valid, test = split_by_class(df)\n",
    "\n",
    "(train['label_int'].value_counts().to_dict(),\n",
    " valid['label_int'].value_counts().to_dict(),\n",
    " test['label_int'].value_counts().to_dict())"
   ]
  },
  {
   "cell_type": "markdown",
   "id": "400d7f8a",
   "metadata": {},
   "source": [
    "### 7. Salvar arquivos \n",
    "Por fim, salvamos os arquivos de treinamento, teste e validação para uso pelos algoritmos solicitados."
   ]
  },
  {
   "cell_type": "code",
   "execution_count": 145,
   "id": "62a733f2",
   "metadata": {},
   "outputs": [
    {
     "data": {
      "text/plain": [
       "('/Users/arthurtesta/Documents/PUCRS/Inteligencia Artificial/data/dataset_trabalho_full.csv',\n",
       " '/Users/arthurtesta/Documents/PUCRS/Inteligencia Artificial/data/train.csv',\n",
       " '/Users/arthurtesta/Documents/PUCRS/Inteligencia Artificial/data/valid.csv',\n",
       " '/Users/arthurtesta/Documents/PUCRS/Inteligencia Artificial/data/test.csv')"
      ]
     },
     "execution_count": 145,
     "metadata": {},
     "output_type": "execute_result"
    }
   ],
   "source": [
    "OUT = Path('/Users/arthurtesta/Documents/PUCRS/Inteligencia Artificial/data')\n",
    "full_path = OUT/'dataset_trabalho_full.csv'\n",
    "train_path = OUT/'train.csv'\n",
    "valid_path = OUT/'valid.csv'\n",
    "test_path  = OUT/'test.csv'\n",
    "\n",
    "df.to_csv(full_path, index=False)\n",
    "train.to_csv(train_path, index=False)\n",
    "valid.to_csv(valid_path, index=False)\n",
    "test.to_csv(test_path, index=False)\n",
    "\n",
    "str(full_path), str(train_path), str(valid_path), str(test_path)"
   ]
  },
  {
   "cell_type": "markdown",
   "id": "93e2eaf2",
   "metadata": {},
   "source": [
    "# Parte #03 — Modelagem com Classificadores (k-NN, MLP, Árvore, Random Forest)"
   ]
  },
  {
   "cell_type": "markdown",
   "id": "c64bf2de",
   "metadata": {},
   "source": [
    "### 1. Preparação para modelagem\n",
    "\n",
    "Com os datasets particionados para teste, treinamento e validação, iremos agora aplicar os modelos classificadores. Uma observação importante é que os cabeçalhos são lidos inicialmente como \"strings\" pelo pandas, e por isso é preciso normalizar as colunas com cabeçalhos de números inteiros. Neste primeiro momento vamos carregar os arquivos, limpar e normalizar os headers, e fazer a separação de features e target. Após, vamos definir as funções de treinamento e exibição da matriz de confusão."
   ]
  },
  {
   "cell_type": "code",
   "execution_count": 146,
   "id": "b211d4e4",
   "metadata": {},
   "outputs": [
    {
     "name": "stdout",
     "output_type": "stream",
     "text": [
      "Cols normalizadas (train): ['0', '1', '2', '3', '4', '5', '6', '7', '8', \"'label_int'\", \"'label'\"]\n"
     ]
    }
   ],
   "source": [
    "from pathlib import Path\n",
    "import pandas as pd\n",
    "import numpy as np\n",
    "import matplotlib.pyplot as plt\n",
    "\n",
    "from sklearn.preprocessing import OneHotEncoder\n",
    "from sklearn.compose import ColumnTransformer\n",
    "from sklearn.pipeline import Pipeline\n",
    "from sklearn.preprocessing import StandardScaler\n",
    "from sklearn.metrics import classification_report, confusion_matrix, accuracy_score, f1_score, precision_score, recall_score\n",
    "from sklearn.neighbors import KNeighborsClassifier\n",
    "from sklearn.neural_network import MLPClassifier\n",
    "from sklearn.tree import DecisionTreeClassifier\n",
    "from sklearn.ensemble import RandomForestClassifier\n",
    "\n",
    "import itertools, json\n",
    "\n",
    "def clean_headers(df):\n",
    "    df = df.copy()\n",
    "    newcols = []\n",
    "    for c in df.columns:\n",
    "        # remove espaços e aspas simples/duplas nas pontas\n",
    "        if isinstance(c, str):\n",
    "            s = c.strip().strip(\"'\").strip('\"')\n",
    "            # se for dígito puro, converte para int\n",
    "            newcols.append(int(s) if s.isdigit() else s)\n",
    "        else:\n",
    "            newcols.append(c)\n",
    "    df.columns = newcols\n",
    "    return df\n",
    "\n",
    "train = clean_headers(train)\n",
    "valid = clean_headers(valid)\n",
    "test  = clean_headers(test)\n",
    "\n",
    "print(\"Cols normalizadas (train):\", [repr(c) for c in train.columns])\n",
    "\n",
    "feature_cols = list(range(9))\n",
    "target_col = 'label_int'\n",
    "\n",
    "# Separação das features e do target\n",
    "X_train, y_train = train[feature_cols], train[target_col]\n",
    "X_valid, y_valid = valid[feature_cols], valid[target_col]\n",
    "X_test,  y_test  = test[feature_cols],  test[target_col]\n",
    "\n",
    "pre_onehot = ColumnTransformer( # Transformação de features categóricas em binárias\n",
    "    transformers=[('onehot', OneHotEncoder(categories=[['b','o','x']]*9, handle_unknown='ignore', sparse_output=False), feature_cols)],\n",
    "    remainder='drop'\n",
    ")\n",
    "\n",
    "pre_onehot_scale = Pipeline(steps=[\n",
    "    ('onehot', OneHotEncoder(categories=[['b','o','x']]*9, handle_unknown='ignore', sparse_output=False)),\n",
    "    ('scaler', StandardScaler())\n",
    "])\n",
    "\n",
    "def eval_on(y_true, y_pred):\n",
    "    metrics = {\n",
    "        'accuracy': float(accuracy_score(y_true, y_pred)),\n",
    "        'precision_macro': float(precision_score(y_true, y_pred, average='macro', zero_division=0)),\n",
    "        'recall_macro': float(recall_score(y_true, y_pred, average='macro', zero_division=0)),\n",
    "        'f1_macro': float(f1_score(y_true, y_pred, average='macro', zero_division=0)),\n",
    "    }\n",
    "    cm = confusion_matrix(y_true, y_pred, labels=[0,1,2])\n",
    "    return metrics, cm\n",
    "\n",
    "def plot_confusion_matrix(cm, classes, title):\n",
    "    fig, ax = plt.subplots()\n",
    "    im = ax.imshow(cm, interpolation='nearest')\n",
    "    ax.set_title(title)\n",
    "    tick_marks = np.arange(len(classes))\n",
    "    ax.set_xticks(tick_marks); ax.set_xticklabels(classes)\n",
    "    ax.set_yticks(tick_marks); ax.set_yticklabels(classes)\n",
    "    thresh = cm.max() / 2.0\n",
    "    for i, j in itertools.product(range(cm.shape[0]), range(cm.shape[1])):\n",
    "        ax.text(j, i, format(cm[i, j], 'd'),\n",
    "                horizontalalignment=\"center\",\n",
    "                color=\"white\" if cm[i, j] > thresh else \"black\")\n",
    "    ax.set_ylabel('Verdadeiro'); ax.set_xlabel('Previsto')\n",
    "    plt.show()\n",
    "\n",
    "classes = ['0 Tem', '1 Possível', '2 Fim']\n",
    "results = {}"
   ]
  },
  {
   "cell_type": "markdown",
   "id": "0455c694",
   "metadata": {},
   "source": [
    "Para entendermos os resultados de importância dos resultados dos algoritmos, é preciso lembrar que utilizamos “One-Hot” (ou one-hot encoding): é um jeito de transformar categorias em números para que algoritmos de ML consigam usar esses dados."
   ]
  },
  {
   "cell_type": "markdown",
   "id": "b67093e9",
   "metadata": {},
   "source": [
    "A maioria dos algoritmos (k-NN, MLP, SVM, árvores, etc.) não entende texto/categorias diretamente. Por isso, utilizamos o One-Hot para:\n",
    "- Cada valor categórico vira um conjunto de colunas binárias (0/1).\n",
    "\n",
    "- Em vez de guardar “x/o/b” numa única coluna, criamos uma coluna por valor possível e marcamos 1 só onde aquela categoria apareceu.\n",
    "\n",
    "- Dessa forma, cada linha de 9 features se torna 27 features, facilitando o processamento destas categorias.\n",
    "\n",
    "`OneHotEncoder(categories=[['b','o','x']]*9`"
   ]
  },
  {
   "cell_type": "markdown",
   "id": "9c04c940",
   "metadata": {},
   "source": [
    "A partir deste ponto, iremos processar cada um dos algoritmos escolhidos (k-NN, MLP, Árvore de)"
   ]
  },
  {
   "cell_type": "markdown",
   "id": "0e6a0f97",
   "metadata": {},
   "source": [
    "### 2. k-NN "
   ]
  },
  {
   "cell_type": "code",
   "execution_count": 147,
   "id": "31d3be4c",
   "metadata": {},
   "outputs": [
    {
     "name": "stdout",
     "output_type": "stream",
     "text": [
      "Acurácia: 0.72\n",
      "Precision: 0.704906204906205\n",
      "Recall: 0.7200000000000001\n",
      "F1-Score: 0.6927748027292594\n",
      "k-NN melhor: 7 | valid f1_macro = 0.7222\n"
     ]
    },
    {
     "data": {
      "image/png": "[encoded data removed]",
      "text/plain": [
       "<Figure size 640x480 with 1 Axes>"
      ]
     },
     "metadata": {},
     "output_type": "display_data"
    }
   ],
   "source": [
    "from sklearn.neighbors import KNeighborsClassifier\n",
    "\n",
    "results = {}\n",
    "\n",
    "best_knn = None\n",
    "best_knn_k = None\n",
    "best_knn_valid = -1.0\n",
    "\n",
    "for k in [1,3,5,7,9,11]:\n",
    "    pipe = Pipeline([('prep', pre_onehot_scale),\n",
    "                     ('clf', KNeighborsClassifier(n_neighbors=k))])\n",
    "    pipe.fit(X_train, y_train)\n",
    "    yv = pipe.predict(X_valid)\n",
    "    m,_ = eval_on(y_valid, yv)\n",
    "    if m['f1_macro'] > best_knn_valid:\n",
    "        best_knn_valid = m['f1_macro']; best_knn = pipe; best_knn_k = k\n",
    "\n",
    "yt = best_knn.predict(X_test)\n",
    "m, cm = eval_on(y_test, yt)\n",
    "results['knn'] = {'k': best_knn_k, 'valid_f1_macro': best_knn_valid, 'test_metrics': m}\n",
    "print(\"Acurácia:\", m['accuracy'])\n",
    "print(\"Precision:\", m['precision_macro'])\n",
    "print(\"Recall:\", m['recall_macro'])\n",
    "print(\"F1-Score:\", m['f1_macro'])\n",
    "print(\"k-NN melhor:\", best_knn_k, \"| valid f1_macro =\", round(best_knn_valid,4))\n",
    "plot_confusion_matrix(cm, classes, 'k-NN (k=7) — Teste')\n"
   ]
  },
  {
   "cell_type": "markdown",
   "id": "1815300a",
   "metadata": {},
   "source": [
    "### 3. MLP (Multi Layer Perceptron)"
   ]
  },
  {
   "cell_type": "code",
   "execution_count": 148,
   "id": "61c4abdf",
   "metadata": {},
   "outputs": [
    {
     "name": "stdout",
     "output_type": "stream",
     "text": [
      "Acurácia: 0.7333333333333333\n",
      "Precision: 0.731711915535445\n",
      "Recall: 0.7333333333333334\n",
      "MLP melhor: {'hidden_layer_sizes': (64, 32, 16, 8), 'alpha': 0.0001} | valid f1_macro = 0.8253\n"
     ]
    },
    {
     "data": {
      "image/png": "[encoded data removed]",
      "text/plain": [
       "<Figure size 640x480 with 1 Axes>"
      ]
     },
     "metadata": {},
     "output_type": "display_data"
    }
   ],
   "source": [
    "from sklearn.neural_network import MLPClassifier\n",
    "\n",
    "best_mlp = None\n",
    "best_mlp_valid = -1.0\n",
    "best_cfg = None\n",
    "\n",
    "for h in [(64,), (128,), (64,32), (128,64), (64,32,16), (128,64,32), (64,32,16,8), (128,64,32,16), (64,32,16,8,4), (128,64,32,16,8)]:\n",
    "    for alpha in [1e-4, 1e-3, 1e-2]:\n",
    "        pipe = Pipeline([('prep', pre_onehot_scale),\n",
    "                         ('clf', MLPClassifier(hidden_layer_sizes=h, activation='relu',\n",
    "                                               alpha=alpha, max_iter=1000, random_state=42))])\n",
    "        pipe.fit(X_train, y_train)\n",
    "        yv = pipe.predict(X_valid)\n",
    "        m,_ = eval_on(y_valid, yv)\n",
    "        if m['f1_macro'] > best_mlp_valid:\n",
    "            best_mlp_valid = m['f1_macro']; best_mlp = pipe\n",
    "            best_cfg = {'hidden_layer_sizes': h, 'alpha': alpha}\n",
    "\n",
    "yt = best_mlp.predict(X_test)\n",
    "m, cm = eval_on(y_test, yt)\n",
    "results['mlp'] = {'config': best_cfg, 'valid_f1_macro': best_mlp_valid, 'test_metrics': m}\n",
    "print(\"Acurácia:\", m['accuracy'])\n",
    "print(\"Precision:\", m['precision_macro'])\n",
    "print(\"Recall:\", m['recall_macro'])\n",
    "print(\"MLP melhor:\", best_cfg, \"| valid f1_macro =\", round(best_mlp_valid,4))\n",
    "plot_confusion_matrix(cm, classes, f\"MLP {best_cfg} — Teste\")\n"
   ]
  },
  {
   "cell_type": "markdown",
   "id": "214428d5",
   "metadata": {},
   "source": [
    "### 4. Árvore de Decisão"
   ]
  },
  {
   "cell_type": "code",
   "execution_count": 149,
   "id": "dea810b6",
   "metadata": {},
   "outputs": [
    {
     "name": "stdout",
     "output_type": "stream",
     "text": [
      "Acurácia: 0.5466666666666666\n",
      "Precision: 0.5277777777777778\n",
      "Recall: 0.5466666666666667\n",
      "Árvore melhor: {'max_depth': 5, 'min_samples_leaf': 10} | valid f1_macro = 0.6668\n"
     ]
    },
    {
     "data": {
      "image/png": "[encoded data removed]",
      "text/plain": [
       "<Figure size 640x480 with 1 Axes>"
      ]
     },
     "metadata": {},
     "output_type": "display_data"
    }
   ],
   "source": [
    "from sklearn.tree import DecisionTreeClassifier\n",
    "\n",
    "best_dt = None\n",
    "best_dt_valid = -1.0\n",
    "best_dt_cfg = None\n",
    "\n",
    "for depth in [None, 5, 10, 15, 20]:\n",
    "    for min_leaf in [1, 2, 5, 10]:\n",
    "        pipe = Pipeline([('prep', pre_onehot),\n",
    "                         ('clf', DecisionTreeClassifier(criterion='entropy', max_depth=depth, min_samples_leaf=min_leaf, random_state=42))])\n",
    "        pipe.fit(X_train, y_train)\n",
    "        yv = pipe.predict(X_valid)\n",
    "        m,_ = eval_on(y_valid, yv)\n",
    "        if m['f1_macro'] > best_dt_valid:\n",
    "            best_dt_valid = m['f1_macro']; best_dt = pipe\n",
    "            best_dt_cfg = {'max_depth': depth, 'min_samples_leaf': min_leaf}\n",
    "\n",
    "yt = best_dt.predict(X_test)\n",
    "m, cm = eval_on(y_test, yt)\n",
    "results['decision_tree'] = {'config': best_dt_cfg, 'valid_f1_macro': best_dt_valid, 'test_metrics': m}\n",
    "# imprime acuracia, precision, recall e f1-score\n",
    "print(\"Acurácia:\", m['accuracy'])\n",
    "print(\"Precision:\", m['precision_macro'])\n",
    "print(\"Recall:\", m['recall_macro'])\n",
    "print(\"Árvore melhor:\", best_dt_cfg, \"| valid f1_macro =\", round(best_dt_valid,4))\n",
    "plot_confusion_matrix(cm, classes, f\"Decision Tree {best_dt_cfg} — Teste\")\n"
   ]
  },
  {
   "cell_type": "markdown",
   "id": "dbbe936c",
   "metadata": {},
   "source": [
    "### 5. Random Forest\n"
   ]
  },
  {
   "cell_type": "markdown",
   "id": "0db7e4f1",
   "metadata": {},
   "source": [
    "#### Como funciona Random Forest:\n",
    "\n",
    "Sabemos que as árvores de decisão, utilizadas no aprendizado supervisionado (quando há classificação de saída e dados de entrada rotulados), servem perfeitamente como método para aproximar funções discretas (classificação). Sendo o problema encontrado no jogo da velha um exemplo de conjunto de regras com compreensibilidade (por exemplo: SE casas 0 e 1 == X, ENTÃO 'Possível Fim'), **temos nas árvores de decisão uma excelente forma de analisar o dataset para previsões**.\n",
    "\n",
    "A **Random Forest** é nada mais do que um algoritmo de  **treinamento de várias Árvores de Decisão**, escolhidas aleatóriamente. \n",
    "\n",
    "Cada árvore vê um bootstrapped sample (amostra com reposição do treino) e, a cada split (iteração), testa só um subconjunto aleatório de features (no nosso caso, dummies como p4=b, p7=x, etc). No fim, a previsão é a maioria dos votos das árvores. \n",
    "\n",
    "Uma outra forma de ver é que funcinoa como se perguntássemos para um grupo **aleatório** de árvores de decisão (chamado de _bootstrapped sample_, ou _amostra com reposição_) qual a classificação esperada. A votação final melhora a generalização comparado a uma árvore única, que pode _\"decorar o treino\"_.\n",
    "\n",
    "Essa aleatoriedade + _\"sistema de votação\"_ reduz variância/overfitting em relação a uma árvore única e captura interações não lineares (padrões como “duas iguais + vazio” em linhas e diagonais).\n",
    "\n",
    "\n",
    "Prós (neste dataset)\n",
    "\n",
    "- Bom desempenho com pouco tuning e dados categóricos one-hot.\n",
    "\n",
    "- Capta interações entre casas (linhas/colunas/diagonais).\n",
    "\n",
    "- Robusta a ruído e a features redundantes; menos propensa a “decorar” que uma árvore só.\n",
    "\n",
    "- Dá importância de features (útil p/ interpretação inicial).\n",
    "\n",
    "Contras / cuidados\n",
    "\n",
    "- Interpretabilidade limitada (melhor que MLP, pior que árvore única).\n",
    "\n",
    "- Ainda pode sobreajustar se as árvores forem muito profundas e folhas muito pequenas. Utilizamos limites para evitar isso (iteração de vários max_depth e min_samples_leaf≥2–5).\n",
    "\n",
    "- Importâncias por impureza têm viés; utilizando _one-hot_ o viés é menor, mas ainda vale preferir permutation importance para conclusão."
   ]
  },
  {
   "cell_type": "code",
   "execution_count": 150,
   "id": "28e62acb",
   "metadata": {},
   "outputs": [
    {
     "name": "stdout",
     "output_type": "stream",
     "text": [
      "Acurácia: 0.7066666666666667\n",
      "Precision: 0.7131724484665661\n",
      "Recall: 0.7066666666666667\n",
      "RF melhor: {'n_estimators': 100, 'max_depth': 10, 'min_samples_leaf': 2} | valid f1_macro = 0.7596\n"
     ]
    },
    {
     "data": {
      "image/png": "[encoded data removed]",
      "text/plain": [
       "<Figure size 640x480 with 1 Axes>"
      ]
     },
     "metadata": {},
     "output_type": "display_data"
    }
   ],
   "source": [
    "from sklearn.ensemble import RandomForestClassifier\n",
    "\n",
    "best_rf = None\n",
    "best_rf_valid = -1.0\n",
    "best_rf_cfg = None\n",
    "\n",
    "for n in [100, 400, 1000]:\n",
    "    for depth in [None, 10, 20]:\n",
    "        for min_leaf in [1, 2, 5]:\n",
    "            pipe = Pipeline([('prep', pre_onehot),\n",
    "                             ('clf', RandomForestClassifier(n_estimators=n, max_depth=depth,\n",
    "                                                           min_samples_leaf=min_leaf,\n",
    "                                                           random_state=42, n_jobs=-1))])\n",
    "            pipe.fit(X_train, y_train)\n",
    "            yv = pipe.predict(X_valid)\n",
    "            m,_ = eval_on(y_valid, yv)\n",
    "            if m['f1_macro'] > best_rf_valid:\n",
    "                best_rf_valid = m['f1_macro']; best_rf = pipe\n",
    "                best_rf_cfg = {'n_estimators': n, 'max_depth': depth, 'min_samples_leaf': min_leaf}\n",
    "\n",
    "yt = best_rf.predict(X_test)\n",
    "m, cm = eval_on(y_test, yt)\n",
    "results['random_forest'] = {'config': best_rf_cfg, 'valid_f1_macro': best_rf_valid, 'test_metrics': m}\n",
    "# imprime acuracia, precision, recall e f1-score\n",
    "print(\"Acurácia:\", m['accuracy'])\n",
    "print(\"Precision:\", m['precision_macro'])\n",
    "print(\"Recall:\", m['recall_macro'])\n",
    "print(\"RF melhor:\", best_rf_cfg, \"| valid f1_macro =\", round(best_rf_valid,4))\n",
    "plot_confusion_matrix(cm, classes, f\"Random Forest {best_rf_cfg} — Teste\")\n"
   ]
  },
  {
   "cell_type": "markdown",
   "id": "c702bb4d",
   "metadata": {},
   "source": [
    "### 6. Comparativo\n"
   ]
  },
  {
   "cell_type": "code",
   "execution_count": 159,
   "id": "e75f2b18",
   "metadata": {},
   "outputs": [
    {
     "data": {
      "text/html": [
       "<div>\n",
       "<style scoped>\n",
       "    .dataframe tbody tr th:only-of-type {\n",
       "        vertical-align: middle;\n",
       "    }\n",
       "\n",
       "    .dataframe tbody tr th {\n",
       "        vertical-align: top;\n",
       "    }\n",
       "\n",
       "    .dataframe thead th {\n",
       "        text-align: right;\n",
       "    }\n",
       "</style>\n",
       "<table border=\"1\" class=\"dataframe\">\n",
       "  <thead>\n",
       "    <tr style=\"text-align: right;\">\n",
       "      <th></th>\n",
       "      <th>modelo</th>\n",
       "      <th>config</th>\n",
       "      <th>accuracy</th>\n",
       "      <th>precision_macro</th>\n",
       "      <th>recall_macro</th>\n",
       "      <th>f1_macro</th>\n",
       "      <th>valid_f1_macro</th>\n",
       "    </tr>\n",
       "  </thead>\n",
       "  <tbody>\n",
       "    <tr>\n",
       "      <th>0</th>\n",
       "      <td>mlp</td>\n",
       "      <td>{'hidden_layer_sizes': (64, 32, 16, 8), 'alpha...</td>\n",
       "      <td>0.733333</td>\n",
       "      <td>0.731712</td>\n",
       "      <td>0.733333</td>\n",
       "      <td>0.722247</td>\n",
       "      <td>0.825290</td>\n",
       "    </tr>\n",
       "    <tr>\n",
       "      <th>1</th>\n",
       "      <td>random_forest</td>\n",
       "      <td>{'n_estimators': 100, 'max_depth': 10, 'min_sa...</td>\n",
       "      <td>0.706667</td>\n",
       "      <td>0.713172</td>\n",
       "      <td>0.706667</td>\n",
       "      <td>0.693309</td>\n",
       "      <td>0.759593</td>\n",
       "    </tr>\n",
       "    <tr>\n",
       "      <th>2</th>\n",
       "      <td>knn</td>\n",
       "      <td>k=7</td>\n",
       "      <td>0.720000</td>\n",
       "      <td>0.704906</td>\n",
       "      <td>0.720000</td>\n",
       "      <td>0.692775</td>\n",
       "      <td>0.722217</td>\n",
       "    </tr>\n",
       "    <tr>\n",
       "      <th>3</th>\n",
       "      <td>decision_tree</td>\n",
       "      <td>{'max_depth': 5, 'min_samples_leaf': 10}</td>\n",
       "      <td>0.546667</td>\n",
       "      <td>0.527778</td>\n",
       "      <td>0.546667</td>\n",
       "      <td>0.535535</td>\n",
       "      <td>0.666763</td>\n",
       "    </tr>\n",
       "  </tbody>\n",
       "</table>\n",
       "</div>"
      ],
      "text/plain": [
       "          modelo                                             config  accuracy  \\\n",
       "0            mlp  {'hidden_layer_sizes': (64, 32, 16, 8), 'alpha...  0.733333   \n",
       "1  random_forest  {'n_estimators': 100, 'max_depth': 10, 'min_sa...  0.706667   \n",
       "2            knn                                                k=7  0.720000   \n",
       "3  decision_tree           {'max_depth': 5, 'min_samples_leaf': 10}  0.546667   \n",
       "\n",
       "   precision_macro  recall_macro  f1_macro  valid_f1_macro  \n",
       "0         0.731712      0.733333  0.722247        0.825290  \n",
       "1         0.713172      0.706667  0.693309        0.759593  \n",
       "2         0.704906      0.720000  0.692775        0.722217  \n",
       "3         0.527778      0.546667  0.535535        0.666763  "
      ]
     },
     "metadata": {},
     "output_type": "display_data"
    },
    {
     "name": "stdout",
     "output_type": "stream",
     "text": [
      "Salvo em: /Users/arthurtesta/Documents/PUCRS/Inteligencia Artificial/data/resultados_modelos.csv\n"
     ]
    }
   ],
   "source": [
    "summary_rows = []\n",
    "for name, info in results.items():\n",
    "    row = {'modelo': name}\n",
    "    if 'k' in info: row['config'] = f\"k={info['k']}\"\n",
    "    if 'config' in info: row['config'] = str(info['config'])\n",
    "    row.update(info['test_metrics'])\n",
    "    row['valid_f1_macro'] = info.get('valid_f1_macro', None)\n",
    "    summary_rows.append(row)\n",
    "\n",
    "summary = pd.DataFrame(summary_rows).sort_values(by='f1_macro', ascending=False).reset_index(drop=True)\n",
    "display(summary)\n",
    "\n",
    "\n",
    "out_csv = BASE/'resultados_modelos.csv'\n",
    "summary.to_csv(out_csv, index=False)\n",
    "print(\"Salvo em:\", out_csv)\n"
   ]
  },
  {
   "cell_type": "markdown",
   "id": "b9f05299",
   "metadata": {},
   "source": [
    "Por fim, salvamos os modelos (arquivos .pkl) em uma pasta separada para uso posterior"
   ]
  },
  {
   "cell_type": "code",
   "execution_count": 188,
   "id": "96fda3a5",
   "metadata": {},
   "outputs": [
    {
     "name": "stdout",
     "output_type": "stream",
     "text": [
      "Modelos salvos em: /Users/arthurtesta/Documents/PUCRS/Inteligencia Artificial/source/models\n",
      "Importância das features da melhor configuração (Árvore de Decisão):\n"
     ]
    },
    {
     "data": {
      "text/plain": [
       "p4=b    0.255663\n",
       "p8=b    0.156427\n",
       "p2=b    0.146873\n",
       "p6=b    0.115836\n",
       "p0=b    0.106258\n",
       "p5=b    0.058698\n",
       "p3=o    0.054319\n",
       "p7=b    0.032573\n",
       "p0=x    0.023917\n",
       "p7=x    0.023601\n",
       "p3=b    0.013383\n",
       "p6=o    0.008098\n",
       "p1=b    0.004355\n",
       "p8=o    0.000000\n",
       "p5=x    0.000000\n",
       "dtype: float64"
      ]
     },
     "metadata": {},
     "output_type": "display_data"
    },
    {
     "name": "stdout",
     "output_type": "stream",
     "text": [
      "Importância das features da melhor configuração (Random Forest):\n"
     ]
    },
    {
     "data": {
      "text/plain": [
       "p4=b    0.096771\n",
       "p8=b    0.063344\n",
       "p2=b    0.054258\n",
       "p0=b    0.053056\n",
       "p6=b    0.052258\n",
       "p4=x    0.044409\n",
       "p7=x    0.037298\n",
       "p6=x    0.036861\n",
       "p1=x    0.034995\n",
       "p7=o    0.033720\n",
       "p8=x    0.033262\n",
       "p3=x    0.033066\n",
       "p5=b    0.031099\n",
       "p7=b    0.030037\n",
       "p5=x    0.029996\n",
       "dtype: float64"
      ]
     },
     "metadata": {},
     "output_type": "display_data"
    }
   ],
   "source": [
    "import joblib\n",
    "\n",
    "from pathlib import Path\n",
    "models_dir = BASE/'models'\n",
    "models_dir.mkdir(exist_ok=True)\n",
    "\n",
    "joblib.dump(best_knn, models_dir/'best_knn.pkl')\n",
    "joblib.dump(best_mlp, models_dir/'best_mlp.pkl')\n",
    "joblib.dump(best_dt,  models_dir/'best_decision_tree.pkl')\n",
    "joblib.dump(best_rf,  models_dir/'best_random_forest.pkl')\n",
    "try:\n",
    "    joblib.dump(best_svm, models_dir/'best_svm.pkl')\n",
    "except NameError:\n",
    "    pass\n",
    "\n",
    "print(\"Modelos salvos em:\", models_dir)\n",
    "\n",
    "# Importância (apenas se o classificador final for a etapa .clf)\n",
    "def get_feature_names_after_onehot():\n",
    "    # reconstrói nomes one-hot nas 9 posições ('b','o','x')\n",
    "    cats = ['b','o','x']\n",
    "    names = []\n",
    "    for pos in range(9):\n",
    "        for c in cats:\n",
    "            names.append(f'p{pos}={c}')\n",
    "    return names\n",
    "\n",
    "# Árvore\n",
    "if hasattr(best_dt.named_steps['clf'], 'feature_importances_'):\n",
    "    feats = get_feature_names_after_onehot()\n",
    "    imp = pd.Series(best_dt.named_steps['clf'].feature_importances_, index=feats).sort_values(ascending=False)\n",
    "    # Exibe as 15 posições mais importantes \n",
    "    print(\"Importância das features da melhor configuração (Árvore de Decisão):\")\n",
    "    display(imp.head(15))\n",
    "\n",
    "# Random Forest\n",
    "if hasattr(best_rf.named_steps['clf'], 'feature_importances_'):\n",
    "    feats = get_feature_names_after_onehot()\n",
    "    imp_rf = pd.Series(best_rf.named_steps['clf'].feature_importances_, index=feats).sort_values(ascending=False)\n",
    "    # Exibe as 15 posições mais importantes \n",
    "    print(\"Importância das features da melhor configuração (Random Forest):\")\n",
    "    display(imp_rf.head(15))\n"
   ]
  },
  {
   "cell_type": "markdown",
   "id": "a6b5f527",
   "metadata": {},
   "source": [
    "#### Interpretação:\n",
    "\n",
    "Vemos que, na posição 4 do tabuleiro (centro do tabuleiro) temos uma maior prevalência média de b (_blank_/vazio). Isso faz sentido pois\n",
    "- Classe 2 (Fim de Jogo) muitas vezes não tem vazios (empate) ou termina antes com linha vencedora;\n",
    "\n",
    "- Classe 1 (Possível Fim) exige pelo menos um vazio na linha ameaçadora (“duas + vazio”);"
   ]
  },
  {
   "cell_type": "markdown",
   "id": "f068de59",
   "metadata": {},
   "source": [
    "Precisamos lembrar que:\n",
    "- Fim (2) costuma vir de empate (zero vazios) ou vitória (pode ter vazios, mas muitas vitórias acontecem com o tabuleiro já bem cheio).\n",
    "\n",
    "- Possível Fim (1) exige um vazio na linha ameaçadora.\n",
    "\n",
    "Logo, “existência de vazios em posições críticas (centro/cantos)” é um excelente sinal divisor entre (1) e (2) — e, combinada com quem ocupa outras casas, separa (0) também."
   ]
  },
  {
   "cell_type": "markdown",
   "id": "97bd2187",
   "metadata": {},
   "source": [
    "### Resumo dos parâmetros utilizados\n",
    "\n",
    "| Algoritmo        | Grid pesquisado                                                                 | Melhores Parâmetros (validação)                   | Justificativa resumida |\n",
    "|------------------|----------------------------------------------------------------------------------|--------------------------------------|------------------------|\n",
    "| **k-NN**         | `k ∈ {1,3,5,7,9,11}`                                                             | `k = 7`                              | `k` médio suaviza ruído sem perder padrões locais; *scaling* ajuda distância. |\n",
    "| **MLP**          | `hidden_layer_sizes ∈ {(64,), (128,), (64,32), (128,64)}`, `alpha ∈ {1e-4,1e-3,1e-2}` | `hidden=(64,32)`, `alpha=0.01`       | 2 camadas capturam interações (linhas/diagonais); `alpha` alto reduziu *overfit*. |\n",
    "| **Decision Tree**| `max_depth ∈ {None,5,10,15,20}`, `min_samples_leaf ∈ {1,2,5,10}`                | `max_depth=5`, `min_samples_leaf=10` | Folhas maiores e pouca profundidade reduziram variância; melhora macro-F1. |\n",
    "| **Random Forest**| `n_estimators ∈ {100,200,400}`, `max_depth ∈ {None,10,20}`, `min_samples_leaf ∈ {1,2,5}` |  (`100/10/2`)    | *Bagging* + subamostra de *features* capturam regras sem superajustar; profundidade moderada. |\n"
   ]
  },
  {
   "cell_type": "markdown",
   "id": "bc4968be",
   "metadata": {},
   "source": [
    "### Gráficos e Análise do Melhor Modelo (f1-score)"
   ]
  },
  {
   "cell_type": "code",
   "execution_count": 186,
   "id": "c84f8251",
   "metadata": {},
   "outputs": [
    {
     "data": {
      "text/html": [
       "<div>\n",
       "<style scoped>\n",
       "    .dataframe tbody tr th:only-of-type {\n",
       "        vertical-align: middle;\n",
       "    }\n",
       "\n",
       "    .dataframe tbody tr th {\n",
       "        vertical-align: top;\n",
       "    }\n",
       "\n",
       "    .dataframe thead th {\n",
       "        text-align: right;\n",
       "    }\n",
       "</style>\n",
       "<table border=\"1\" class=\"dataframe\">\n",
       "  <thead>\n",
       "    <tr style=\"text-align: right;\">\n",
       "      <th></th>\n",
       "      <th>modelo</th>\n",
       "      <th>config</th>\n",
       "      <th>accuracy</th>\n",
       "      <th>precision_macro</th>\n",
       "      <th>recall_macro</th>\n",
       "      <th>f1_macro</th>\n",
       "      <th>valid_f1_macro</th>\n",
       "    </tr>\n",
       "  </thead>\n",
       "  <tbody>\n",
       "    <tr>\n",
       "      <th>0</th>\n",
       "      <td>mlp</td>\n",
       "      <td>{'hidden_layer_sizes': (64, 32, 16, 8), 'alpha...</td>\n",
       "      <td>0.733333</td>\n",
       "      <td>0.731712</td>\n",
       "      <td>0.733333</td>\n",
       "      <td>0.722247</td>\n",
       "      <td>0.825290</td>\n",
       "    </tr>\n",
       "    <tr>\n",
       "      <th>1</th>\n",
       "      <td>random_forest</td>\n",
       "      <td>{'n_estimators': 100, 'max_depth': 10, 'min_sa...</td>\n",
       "      <td>0.706667</td>\n",
       "      <td>0.713172</td>\n",
       "      <td>0.706667</td>\n",
       "      <td>0.693309</td>\n",
       "      <td>0.759593</td>\n",
       "    </tr>\n",
       "    <tr>\n",
       "      <th>2</th>\n",
       "      <td>knn</td>\n",
       "      <td>k=7</td>\n",
       "      <td>0.720000</td>\n",
       "      <td>0.704906</td>\n",
       "      <td>0.720000</td>\n",
       "      <td>0.692775</td>\n",
       "      <td>0.722217</td>\n",
       "    </tr>\n",
       "    <tr>\n",
       "      <th>3</th>\n",
       "      <td>decision_tree</td>\n",
       "      <td>{'max_depth': 5, 'min_samples_leaf': 10}</td>\n",
       "      <td>0.546667</td>\n",
       "      <td>0.527778</td>\n",
       "      <td>0.546667</td>\n",
       "      <td>0.535535</td>\n",
       "      <td>0.666763</td>\n",
       "    </tr>\n",
       "  </tbody>\n",
       "</table>\n",
       "</div>"
      ],
      "text/plain": [
       "          modelo                                             config  accuracy  \\\n",
       "0            mlp  {'hidden_layer_sizes': (64, 32, 16, 8), 'alpha...  0.733333   \n",
       "1  random_forest  {'n_estimators': 100, 'max_depth': 10, 'min_sa...  0.706667   \n",
       "2            knn                                                k=7  0.720000   \n",
       "3  decision_tree           {'max_depth': 5, 'min_samples_leaf': 10}  0.546667   \n",
       "\n",
       "   precision_macro  recall_macro  f1_macro  valid_f1_macro  \n",
       "0         0.731712      0.733333  0.722247        0.825290  \n",
       "1         0.713172      0.706667  0.693309        0.759593  \n",
       "2         0.704906      0.720000  0.692775        0.722217  \n",
       "3         0.527778      0.546667  0.535535        0.666763  "
      ]
     },
     "metadata": {},
     "output_type": "display_data"
    },
    {
     "data": {
      "image/png": "[encoded data removed]",
      "text/plain": [
       "<Figure size 640x480 with 1 Axes>"
      ]
     },
     "metadata": {},
     "output_type": "display_data"
    },
    {
     "data": {
      "image/png": "[encoded data removed]",
      "text/plain": [
       "<Figure size 640x480 with 2 Axes>"
      ]
     },
     "metadata": {},
     "output_type": "display_data"
    }
   ],
   "source": [
    "# Funções auxiliares para normalizar e expandir parâmetros\n",
    "\n",
    "import pandas as pd\n",
    "\n",
    "# Carrega os resultados dos modelos do arquivo CSV\n",
    "resultados_modelos_path = '/Users/arthurtesta/Documents/PUCRS/Inteligencia Artificial/data/resultados_modelos.csv'\n",
    "df = pd.read_csv(resultados_modelos_path)\n",
    "\n",
    "# Exibe o DataFrame para conferência\n",
    "display(df)\n",
    "\n",
    "\n",
    "\n",
    "# === 2) Padronizar nomes de colunas (se existirem) ===\n",
    "# nome do algoritmo\n",
    "if 'modelo' in df.columns: alg_col = 'modelo'\n",
    "elif 'algoritmo' in df.columns: alg_col = 'algoritmo'\n",
    "else: raise KeyError(f'Coluna de algoritmo não encontrada. Colunas: {list(df.columns)}')\n",
    "\n",
    "# nome da config\n",
    "cfg_col = 'config' if 'config' in df.columns else None\n",
    "\n",
    "# métricas de teste (pega o que existir, na ordem abaixo)\n",
    "metric_candidates = ['f1_macro', 'accuracy', 'precision_macro', 'recall_macro', 'valid_f1_macro']\n",
    "metrics = [m for m in metric_candidates if m in df.columns]\n",
    "if not metrics:\n",
    "    raise KeyError(f'Nenhuma métrica reconhecida encontrada. Colunas: {list(df.columns)}')\n",
    "\n",
    "# tentar converter 'config' de string dict -> dict (se existir)\n",
    "if cfg_col and df[cfg_col].dtype == object:\n",
    "    def _maybe_dict(x):\n",
    "        try:\n",
    "            return ast.literal_eval(x) if isinstance(x, str) and x.startswith('{') else x\n",
    "        except Exception:\n",
    "            return x\n",
    "    df[cfg_col] = df[cfg_col].apply(_maybe_dict)\n",
    "\n",
    "# ordenar por f1_macro se existir\n",
    "if 'valid_f1_macro' in df.columns:\n",
    "    df = df.sort_values('valid_f1_macro', ascending=False).reset_index(drop=True)\n",
    "\n",
    "# === 3) BARRAS: F1 no teste por algoritmo (se não houver f1_macro, usa a 1ª métrica disponível) ===\n",
    "metric_bar = 'valid_f1_macro' if 'valid_f1_macro' in df.columns else metrics[0]\n",
    "plt.figure()\n",
    "plt.bar(df[alg_col].astype(str), df[metric_bar].astype(float))\n",
    "plt.title(f'{metric_bar} por algoritmo (teste)')\n",
    "plt.xlabel('Algoritmo'); plt.ylabel(metric_bar)\n",
    "plt.xticks(rotation=20)\n",
    "plt.tight_layout()\n",
    "plt.show()\n",
    "\n",
    "# === 4) HEATMAP: métricas normalizadas (z-score) por algoritmo ===\n",
    "M = df[[alg_col] + metrics].copy()\n",
    "# normalizar cada métrica (z-score: (x - mean) / std)\n",
    "for m in metrics:\n",
    "    col = M[m].astype(float)\n",
    "    std = col.std(ddof=0)\n",
    "    M[m] = (col - col.mean()) / (std if std > 0 else 1.0)\n",
    "\n",
    "mat = M[metrics].values\n",
    "plt.figure()\n",
    "im = plt.imshow(mat, aspect='auto')\n",
    "plt.colorbar(im)\n",
    "plt.title('Heatmap de métricas (z-score por coluna)')\n",
    "plt.yticks(range(len(M)), M[alg_col].astype(str).tolist())\n",
    "plt.xticks(range(len(metrics)), metrics, rotation=20)\n",
    "plt.tight_layout()\n",
    "plt.show()\n"
   ]
  },
  {
   "cell_type": "markdown",
   "id": "89a2f2bf",
   "metadata": {},
   "source": [
    "Desta forma, analisando o resultado de f1-score dos melhores parâmetros dos algoritmos utilizados, vemos que o melhor algoritmo é o *MLP* (Multi Layer Perceptron) com duas camadas de 64 e 32 nodos cada. Este algoritmo teve um f1-score de 0.7930, sendo do melhor resultado possível.\n",
    "\n",
    "\n",
    "| modelo | config | accuracy | precision_macro | recall_macro | f1_macro | valid_f1_macro |\n",
    "|--------|--------|----------|-----------------|--------------|----------|----------------|\n",
    "| mlp | {'hidden_layer_sizes': (64, 32, 16, 8), 'alpha': 0.0001} | 0.7333333333333333 | 0.731711915535445 | 0.7333333333333334 | 0.7222467934542238 | 0.8252901160464186 |\n",
    "| random_forest | {'n_estimators': 100, 'max_depth': 10, 'min_samples_leaf': 2} | 0.7066666666666667 | 0.7131724484665661 | 0.7066666666666667 | 0.6933089620028802 | 0.7595926532096744 |\n",
    "| knn | k=7 | 0.72 | 0.704906204906205 | 0.7200000000000001 | 0.6927748027292594 | 0.7222167243938644 |\n",
    "| decision_tree | {'max_depth': 5, 'min_samples_leaf': 10} | 0.5466666666666666 | 0.5277777777777778 | 0.5466666666666667 | 0.5355348592814211 | 0.6667629408555568 | |"
   ]
  },
  {
   "cell_type": "markdown",
   "id": "ed61eb14",
   "metadata": {},
   "source": [
    "Podemos analisar também em detalhe o que pode ser observado em relação a cada algoritmo:\n",
    "\n",
    "| Algoritmo         | Posição na validação | Pontos fortes                                                                                                | Limitações / Observações                                                                 |\n",
    "| ----------------- | -------------------- | ------------------------------------------------------------------------------------------------------------ | ---------------------------------------------------------------------------------------- |\n",
    "| **MLP**           | **1º (melhor)**      | Captura **padrões não lineares** e **interações** (linhas/colunas/diagonais) sem feature engineering.        | Menos interpretável; requer escala e ajuste de hiperparâmetros (p.ex., topologia/alpha). |\n",
    "| **Random Forest** | 2º                   | Aprende **regras** bem; combina sinais de **vazios (b)** e ocupações; **robusta** e pouco sensível à escala. | Interpretabilidade menor que árvore única; ainda precisa ajustar profundidade/folhas.    |\n",
    "| **k-NN (k=7)**    | 3º                   | **Competitivo** como baseline; simples de implementar; bom com dados bem escalados.                          | Depende de **escala**; sofre em **fronteiras estreitas** (ameaças de 1 jogada).          |\n",
    "| **Decision Tree** | 4º (pior macro-F1)   | **Simples e interpretável**; mostra claramente regras/impurezas e importância de features.                   | **Maior viés**; desempenho inferior em macro-F1; tende a subcapturar interações.         |\n"
   ]
  },
  {
   "cell_type": "markdown",
   "id": "59d1ded3",
   "metadata": {},
   "source": [
    "Analisando as matrizes de confusão disponível, podemos também entender um pouco a baixa performance dos demais algoritmos, comparados ao MLP:"
   ]
  },
  {
   "cell_type": "markdown",
   "id": "4d09f3ad",
   "metadata": {},
   "source": [
    "| Par de classes confundidas                 | Por que acontece (intuição)                                                                                                                  | Modelos mais suscetíveis                                                                                 | Sinais/indicadores envolvidos                                                                    | Como mitigar / checar                                                                                                                              |\n",
    "| ------------------------------------------ | -------------------------------------------------------------------------------------------------------------------------------------------- | -------------------------------------------------------------------------------------------------------- | ------------------------------------------------------------------------------------------------ | -------------------------------------------------------------------------------------------------------------------------------------------------- |\n",
    "| **1 (“Possível Fim”) ↔ 0 (“Tem Jogo”)**    | Classe 1 exige **duas iguais + 1 vazio** em alguma linha/coluna/diagonal; muitos estados classe 0 estão **a 1 jogada** desse padrão.         | **k-NN** (fronteiras locais), **Árvore** (pouca capacidade); RF/MLP tendem a errar menos.                | Presença de **vazio** em posições críticas (centro/cantos), quase-ameaças não concretizadas.     | Revisar augmentação (evitar padrões artificiais), adicionar **features de contagem** por linha/coluna/diagonal, checar **matriz de confusão** 0↔1. |\n",
    "| **1 (“Possível Fim”) ↔ 2 (“Fim de Jogo”)** | Tabuleiros **quase cheios** ou com **múltiplas ameaças** podem “parecer finais”; após augmentação, alguns 1 ficam visualmente próximos de 2. | **Árvore** simples (não captura bem múltiplas interações); k-NN também pode confundir em regiões densas. | **Poucos vazios** (tende a 2), mas existência de **linha ameaçadora** (tende a 1).               | Usar modelos com maior capacidade (**RF/MLP**), incluir **regras/contagens** de ameaças, inspecionar erros 1↔2 em amostras.                        |\n",
    "| **Sinal dos “vazios (b)”** (impacta 0/1/2) | Menos vazios → mais perto de **Fim (2)**; vazio **na linha crítica** → **Possível Fim (1)**; vazios difusos → **Tem Jogo (0)**.              | **Árvore** pode supervalorizar splits em `b`; RF distribui melhor; MLP combina com outros sinais.        | Importâncias altas em `p4=b` (centro) e **cantos vazios**; combinação com `x/o` define o estado. | Preferir **Permutation Importance/SHAP** para validar importância; adicionar features agregadas (nº de vazios, ameaças por linha).                 |\n"
   ]
  },
  {
   "cell_type": "markdown",
   "id": "c72383f9",
   "metadata": {},
   "source": [
    "### Análise dos parâmetros do MLP e seus ajustes"
   ]
  },
  {
   "cell_type": "markdown",
   "id": "78ddb422",
   "metadata": {},
   "source": [
    "A capacidade do MLP de conseguir adaptar pesos entre nodos para facilnente capturar padrões entre as casas diagonais do tabuleiro, o que traz uma maior facilidade na criação do modelo preditivo. Para evitar a convergência, aumentamos o numero máximo de iterações.\n",
    "\n",
    "Inicialmente, ao rodarmos o algoritmo, tivemos um resultado de f1_macro próximo a 0.793, com apenas três parâmetros de camadas ocultas, sendo a vencedora (64,32). Após criarmos novas iterações de camadas para teste, foi possível encontrar um parâmetro muito melhor (64,32,16,8) e um f1_macro de 0.8253, o que mostra o ponto acima sobre a importância de criar mais interações não lineares entre os nodos de cada camada do MLP.\n",
    "\n",
    "Por fim, foi importante também iterarmos vários parâmetros _alpha_, que é um parâmetro para facilitar a regularização: Quanto maior o alpha, maior a punição para pesos grandes ⇒ a rede aprende fronteiras mais suaves (menos overfitting).\n",
    "\n",
    "Como temos poucos dados de treino, é importante \"punir\" pesos altos para evitar que o algoritmo acabe _\"viciando\"_ o modelo classificador. "
   ]
  }
 ],
 "metadata": {
  "kernelspec": {
   "display_name": "Python 3 (ipykernel)",
   "language": "python",
   "name": "python3"
  },
  "language_info": {
   "codemirror_mode": {
    "name": "ipython",
    "version": 3
   },
   "file_extension": ".py",
   "mimetype": "text/x-python",
   "name": "python",
   "nbconvert_exporter": "python",
   "pygments_lexer": "ipython3",
   "version": "3.13.7"
  }
 },
 "nbformat": 4,
 "nbformat_minor": 5
}
